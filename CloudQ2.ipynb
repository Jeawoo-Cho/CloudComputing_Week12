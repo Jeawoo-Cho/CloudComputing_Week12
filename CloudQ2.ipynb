{
 "cells": [
  {
   "cell_type": "code",
   "execution_count": 21,
   "metadata": {},
   "outputs": [],
   "source": [
    "import boto3\n",
    "\n",
    "ec2 = boto3.resource('ec2')"
   ]
  },
  {
   "cell_type": "code",
   "execution_count": 36,
   "metadata": {},
   "outputs": [
    {
     "name": "stdout",
     "output_type": "stream",
     "text": [
      "InstanceID(i-06ea89b353de7b254) : status(terminated)\n"
     ]
    }
   ],
   "source": [
    "for instance in ec2.instances.all():\n",
    "    if instance.state['Name'] == 'running':\n",
    "        print('InstanceID(' + instance.id + ') : status(running)')\n",
    "    elif instance.state['Name'] == 'stopped':\n",
    "        print('InstanceID(' + instance.id + ') : status(stopped)')\n",
    "    elif instance.state['Name'] == 'terminated':\n",
    "        print('InstanceID(' + instance.id + ') : status(terminated)')"
   ]
  },
  {
   "cell_type": "code",
   "execution_count": 20,
   "metadata": {},
   "outputs": [],
   "source": [
    "instanceCreate = ec2.create_instances(\n",
    "    ImageId='ami-0817d428a6fb68645',\n",
    "    MinCount=1,\n",
    "    MaxCount=1,\n",
    "    InstanceType='t2.micro',\n",
    "    KeyName='My_key'\n",
    ")"
   ]
  },
  {
   "cell_type": "code",
   "execution_count": 24,
   "metadata": {},
   "outputs": [
    {
     "data": {
      "text/plain": [
       "[{'StoppingInstances': [{'CurrentState': {'Code': 64, 'Name': 'stopping'},\n",
       "    'InstanceId': 'i-06ea89b353de7b254',\n",
       "    'PreviousState': {'Code': 16, 'Name': 'running'}}],\n",
       "  'ResponseMetadata': {'RequestId': '47b7b29a-e467-49a0-ac57-5ce46684c9c9',\n",
       "   'HTTPStatusCode': 200,\n",
       "   'HTTPHeaders': {'x-amzn-requestid': '47b7b29a-e467-49a0-ac57-5ce46684c9c9',\n",
       "    'content-type': 'text/xml;charset=UTF-8',\n",
       "    'content-length': '579',\n",
       "    'date': 'Tue, 24 Nov 2020 14:01:14 GMT',\n",
       "    'server': 'AmazonEC2'},\n",
       "   'RetryAttempts': 0}}]"
      ]
     },
     "execution_count": 24,
     "metadata": {},
     "output_type": "execute_result"
    }
   ],
   "source": [
    "ids = ['i-06ea89b353de7b254']\n",
    "ec2.instances.filter(InstanceIds = ids).stop()"
   ]
  },
  {
   "cell_type": "code",
   "execution_count": 31,
   "metadata": {},
   "outputs": [
    {
     "name": "stdout",
     "output_type": "stream",
     "text": [
      "InstanceID(i-06ea89b353de7b254) --> stopped to terminate)\n"
     ]
    }
   ],
   "source": [
    "for instance in ec2.instances.all():\n",
    "    if instance.state['Name'] == 'stopped':\n",
    "        print('InstanceID(' + instance.id + ') --> stopped to terminate)')\n",
    "        instance.terminate()"
   ]
  },
  {
   "cell_type": "code",
   "execution_count": 33,
   "metadata": {},
   "outputs": [
    {
     "name": "stdout",
     "output_type": "stream",
     "text": [
      "InstanceID(i-0ce802e68c5726c58) --> running to terminate)\n"
     ]
    }
   ],
   "source": [
    "for instance in ec2.instances.all():\n",
    "    if instance.state['Name'] == 'running':\n",
    "        print('InstanceID(' + instance.id + ') --> running to terminate)')\n",
    "        instance.terminate()"
   ]
  },
  {
   "cell_type": "code",
   "execution_count": null,
   "metadata": {},
   "outputs": [],
   "source": []
  }
 ],
 "metadata": {
  "kernelspec": {
   "display_name": "Python 3",
   "language": "python",
   "name": "python3"
  },
  "language_info": {
   "codemirror_mode": {
    "name": "ipython",
    "version": 3
   },
   "file_extension": ".py",
   "mimetype": "text/x-python",
   "name": "python",
   "nbconvert_exporter": "python",
   "pygments_lexer": "ipython3",
   "version": "3.8.3"
  }
 },
 "nbformat": 4,
 "nbformat_minor": 4
}
